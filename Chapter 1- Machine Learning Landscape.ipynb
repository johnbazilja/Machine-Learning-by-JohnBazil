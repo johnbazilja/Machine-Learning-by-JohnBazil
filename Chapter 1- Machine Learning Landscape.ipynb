{
 "cells": [
  {
   "cell_type": "markdown",
   "id": "2551e9f7",
   "metadata": {},
   "source": [
    "<div style=\"text-align: center;\"><h1>MACHINE LEARNING LANDSCAPE</h1></div>\n",
    "<div style=\"text-align: right;\"><h3>JOHN BAZIL J A</h3></div>"
   ]
  },
  {
   "cell_type": "markdown",
   "id": "338e1d6d",
   "metadata": {},
   "source": [
    "## Machine Learning\n",
    "•  Field of study that gives computers the ability to learning without being explicitly programmed.\n",
    "\n",
    "•  Science of Programming computers so they learn from data."
   ]
  },
  {
   "cell_type": "markdown",
   "id": "e293854d",
   "metadata": {},
   "source": [
    "## Why Use Machine Learning\n",
    "• Problems for which existing solutions require a lot of fine-tuning or long lists of rules (a machine learning model can often simplify code and perform better than the traditional approach).\n",
    "\n",
    "• Complex problems for which using a traditional approach yields no good solu- tion (the best machine learning techniques can perhaps find a solution)\n",
    "\n",
    "• Fluctuating environments (a machine learning system can easily be retrained on new data, always keeping it up to date)\n",
    "\n",
    "• Getting insights about complex problems and large amounts of data"
   ]
  },
  {
   "cell_type": "markdown",
   "id": "a90bfabe",
   "metadata": {},
   "source": [
    "## Types of Machine Learning\n",
    "#### Based on how they are supervised while traing:\n",
    " • Supervised\n",
    " • Semi - Supervised\n",
    " • Supervised\n",
    " • Self - Supervised\n",
    "#### Based on whether or not they can learn incrementally on the fly\n",
    " • Online learning\n",
    " • Batch Learning\n",
    "#### Based on whether they work by simply comparing new data points to known data points or detect pattern and build a model\n",
    " • Instance Based Learning\n",
    " • Model Based Learning"
   ]
  },
  {
   "cell_type": "markdown",
   "id": "8576bc3a",
   "metadata": {},
   "source": [
    "## Main Challenges of Machine Learning\n",
    "In short, since your main task is to select a model and train it on some data, the two things that can go wrong are \"bad model\" and \"bad data\", Let's start with examples of bad data.\n",
    "### Bad Data\n",
    "1. Insuffiient Quantity of data\n",
    "2. Non - representative training data (sampling bias)\n",
    "3. Poor quality data (full of errors, outliers and noise\n",
    "4. Irrelevant features\n",
    "\n",
    "### Bad Algorithm\n",
    "1. Overfitting the training data \n",
    "\n",
    "Ways to reduce: By reducing the number of attributes in the training data or by constraining the model(Regularization), Gather more training data, Reduce the noise in the training data.. Hyper Parameter Tuning\n",
    "\n",
    "2. Underfitting the training data\n",
    "\n",
    "Ways to reduce: Select more powerful model with more parameters, feed better features, reduce the  regularization hyperparameter.\n",
    "\n",
    "### Best Practice:\n",
    "1. Testing and Validation: Generalization error\n",
    "2. Hyperparamter Tuning and model selection\n",
    "3. Divide the dataset into 3: Train set, validation set and test set and do cross validation\n",
    "4. Take assumptions for the data.\n",
    "\n",
    "      ######             One option is to train 100 different models using 100 different values for this hyperparameter. Suppose you find the best hyperparame ter value that produces a model with the lowest generalization error-say, just 5% error. You launch this model into production, but unfortunately it does not perform as well as expected and produces 15% errors. What just happened?\n",
    "      ######             The problem is that you measured the generalization error multiple times on the test set, and you adapted the model and hyperparameters to produce the best model for that particular set. This means the model is unlikely to perform as well on new data. A common solution to this problem is called holdout validation"
   ]
  },
  {
   "cell_type": "markdown",
   "id": "5333f175",
   "metadata": {},
   "source": [
    "### End of Chapter 1"
   ]
  }
 ],
 "metadata": {
  "kernelspec": {
   "display_name": "Python 3 (ipykernel)",
   "language": "python",
   "name": "python3"
  },
  "language_info": {
   "codemirror_mode": {
    "name": "ipython",
    "version": 3
   },
   "file_extension": ".py",
   "mimetype": "text/x-python",
   "name": "python",
   "nbconvert_exporter": "python",
   "pygments_lexer": "ipython3",
   "version": "3.9.7"
  }
 },
 "nbformat": 4,
 "nbformat_minor": 5
}
